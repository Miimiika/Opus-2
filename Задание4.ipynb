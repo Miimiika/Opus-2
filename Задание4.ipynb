{
 "cells": [
  {
   "cell_type": "code",
   "execution_count": 2,
   "id": "4ab8ea72-4f0b-4f4f-9e20-ec6f3e84475d",
   "metadata": {
    "tags": []
   },
   "outputs": [
    {
     "name": "stdout",
     "output_type": "stream",
     "text": [
      "Марка автомобиля: SKODA\n",
      "Год выпуска автомобиля: 2019\n"
     ]
    }
   ],
   "source": [
    "class Car:\n",
    "    def __init__(self):\n",
    "        self.brand \n",
    "        self.year \n",
    "\n",
    "car = Car()\n",
    "car.brand = \"SKODA\"\n",
    "car.year = 2019\n",
    "\n",
    "print(\"Марка автомобиля:\", car.brand)\n",
    "print(\"Год выпуска автомобиля:\", car.year)"
   ]
  },
  {
   "cell_type": "code",
   "execution_count": 4,
   "id": "18a00a0d-f7b5-4248-904d-e2b4d11aac3a",
   "metadata": {
    "tags": []
   },
   "outputs": [],
   "source": [
    "class Car:\n",
    "    def __init__(self, brand, year):\n",
    "        self.brand = brand\n",
    "        self.year = year\n",
    "        print(\"brand\", car.brand)\n",
    "        "
   ]
  },
  {
   "cell_type": "code",
   "execution_count": null,
   "id": "2b673903-870a-4052-abc0-c960d9cc5639",
   "metadata": {},
   "outputs": [],
   "source": []
  }
 ],
 "metadata": {
  "kernelspec": {
   "display_name": "Python 3 (ipykernel)",
   "language": "python",
   "name": "python3"
  },
  "language_info": {
   "codemirror_mode": {
    "name": "ipython",
    "version": 3
   },
   "file_extension": ".py",
   "mimetype": "text/x-python",
   "name": "python",
   "nbconvert_exporter": "python",
   "pygments_lexer": "ipython3",
   "version": "3.11.5"
  }
 },
 "nbformat": 4,
 "nbformat_minor": 5
}
