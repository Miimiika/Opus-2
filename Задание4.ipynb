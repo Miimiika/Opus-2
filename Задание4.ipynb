{
 "cells": [
  {
   "cell_type": "code",
   "execution_count": 9,
   "id": "18a00a0d-f7b5-4248-904d-e2b4d11aac3a",
   "metadata": {
    "tags": []
   },
   "outputs": [],
   "source": [
    "class Car:\n",
    "    def __init__(self, brand, year):\n",
    "        self.brand = brand\n",
    "        self.year = year\n",
    "    "
   ]
  },
  {
   "cell_type": "code",
   "execution_count": 10,
   "id": "2b673903-870a-4052-abc0-c960d9cc5639",
   "metadata": {
    "tags": []
   },
   "outputs": [],
   "source": [
    "class Car:\n",
    "    def __init__(self, brand, year):\n",
    "        self.brand = brand\n",
    "        self.year = year\n",
    "\n",
    "\n",
    "class ElectricCar(Car):\n",
    "    def __init__(self, brand, year, battery_size):\n",
    "        super().__init__(brand, year)\n",
    "        self.battery_size = battery_size"
   ]
  },
  {
   "cell_type": "code",
   "execution_count": 11,
   "id": "56632938-57e5-49ed-8bed-4d0ed4eb44cf",
   "metadata": {
    "tags": []
   },
   "outputs": [],
   "source": [
    "class Car:\n",
    "    def __init__(self, brand, year):\n",
    "        self.brand = brand\n",
    "        self.year = year\n",
    "        self.__engine_type = \"unknown\"\n",
    "\n",
    "    @property\n",
    "    def engine_type(self):\n",
    "        return self.__engine_type\n",
    "\n",
    "    @engine_type.setter\n",
    "    def engine_type(self, new_engine_type):\n",
    "        self.__engine_type = new_engine_type"
   ]
  },
  {
   "cell_type": "code",
   "execution_count": null,
   "id": "df77e3bc-1e7b-4845-86c2-dc58101aa571",
   "metadata": {},
   "outputs": [],
   "source": []
  }
 ],
 "metadata": {
  "kernelspec": {
   "display_name": "Python 3 (ipykernel)",
   "language": "python",
   "name": "python3"
  },
  "language_info": {
   "codemirror_mode": {
    "name": "ipython",
    "version": 3
   },
   "file_extension": ".py",
   "mimetype": "text/x-python",
   "name": "python",
   "nbconvert_exporter": "python",
   "pygments_lexer": "ipython3",
   "version": "3.11.5"
  }
 },
 "nbformat": 4,
 "nbformat_minor": 5
}
