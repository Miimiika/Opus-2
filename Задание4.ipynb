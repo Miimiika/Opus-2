class Car:
    def __init__(self, brand, year):
        self.brand = brand
        self.year = year
        self.__engine_type = "unknown"

    @property
    def engine_type(self):
        return self.__engine_type

    @engine_type.setter
    def engine_type(self, new_engine_type):
        self.__engine_type = new_engine_type
