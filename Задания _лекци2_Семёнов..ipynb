{
 "cells": [
  {
   "cell_type": "code",
   "execution_count": 1,
   "id": "bfc7c9d4-d4d9-43d1-937e-a19d24f66417",
   "metadata": {},
   "outputs": [
    {
     "name": "stdin",
     "output_type": "stream",
     "text": [
      "Введите целое число:  18\n",
      "Введите корень числа 3\n"
     ]
    },
    {
     "name": "stdout",
     "output_type": "stream",
     "text": [
      "Значение числа в квадрате 5832\n"
     ]
    }
   ],
   "source": [
    "x = int(input(\"Введите целое число: \"))\n",
    "y = int(input(\"Введите корень числа\"))\n",
    "square = x ** y\n",
    "print(\"Значение числа в квадрате\", square)"
   ]
  },
  {
   "cell_type": "code",
   "execution_count": 2,
   "id": "8ca9b249-cb10-4df7-a82e-30b75054d25f",
   "metadata": {},
   "outputs": [
    {
     "name": "stdin",
     "output_type": "stream",
     "text": [
      "Какой город нужно убрать?: Витебск\n"
     ]
    },
    {
     "name": "stdout",
     "output_type": "stream",
     "text": [
      "{'Гомель', 'Брест', 'Могилев', 'Гродно', 'Минск'}\n"
     ]
    }
   ],
   "source": [
    "x = {\"Минск\", \"Витебск\", \"Гродно\", \"Брест\", \"Гомель\",\"Могилев\"}\n",
    "y = input(\"Какой город нужно убрать?:\")\n",
    "x.remove(y)\n",
    "print(x)"
   ]
  },
  {
   "cell_type": "code",
   "execution_count": null,
   "id": "20633609-5a88-47d2-9629-35dd0a74c496",
   "metadata": {},
   "outputs": [],
   "source": []
  }
 ],
 "metadata": {
  "kernelspec": {
   "display_name": "Python 3 (ipykernel)",
   "language": "python",
   "name": "python3"
  },
  "language_info": {
   "codemirror_mode": {
    "name": "ipython",
    "version": 3
   },
   "file_extension": ".py",
   "mimetype": "text/x-python",
   "name": "python",
   "nbconvert_exporter": "python",
   "pygments_lexer": "ipython3",
   "version": "3.11.5"
  }
 },
 "nbformat": 4,
 "nbformat_minor": 5
}
